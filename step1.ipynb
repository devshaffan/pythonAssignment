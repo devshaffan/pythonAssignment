{
 "cells": [
  {
   "cell_type": "code",
   "execution_count": 2,
   "id": "4749b584",
   "metadata": {},
   "outputs": [],
   "source": [
    "import pandas as pd\n",
    "import numpy as np\n",
    "import math\n",
    "from matplotlib import pyplot\n",
    "from scipy.special import rel_entr\n",
    "import matplotlib.pyplot as plt"
   ]
  },
  {
   "cell_type": "code",
   "execution_count": 6,
   "id": "c674d217",
   "metadata": {},
   "outputs": [
    {
     "name": "stdout",
     "output_type": "stream",
     "text": [
      "        RPM       WOB        ROP        Depth  Claystone  Sandstone  \\\n",
      "0     159.0  1.065942  15.313152  2715.454056        1.0        0.0   \n",
      "1     159.0  1.973127  19.552920  2720.349144        1.0        0.0   \n",
      "2     150.0  1.748599   7.768438  2361.839726        1.0        0.0   \n",
      "3     151.0  1.065488  29.821632  2463.131472        1.0        0.0   \n",
      "4     160.0  6.006017  11.083747  2898.409912        0.0        1.0   \n",
      "...     ...       ...        ...          ...        ...        ...   \n",
      "2265  149.0  2.499294  23.440644  2059.663750        1.0        0.0   \n",
      "2266  150.0  3.558432  23.604017  2556.090290        1.0        0.0   \n",
      "2267  100.0  5.574650  26.977848  2773.695240        1.0        0.0   \n",
      "2268  159.0  5.583722  16.050768  2749.457544        1.0        0.0   \n",
      "2269  160.0  4.440669  30.169104  2837.154600        0.0        1.0   \n",
      "\n",
      "      Limestone       TRQ  \n",
      "0           0.0  5.247015  \n",
      "1           0.0  6.467252  \n",
      "2           0.0  3.294638  \n",
      "3           0.0  4.026779  \n",
      "4           0.0  5.369039  \n",
      "...         ...       ...  \n",
      "2265        0.0  4.026779  \n",
      "2266        0.0  5.491063  \n",
      "2267        0.0  7.687488  \n",
      "2268        0.0  5.613086  \n",
      "2269        0.0  9.883913  \n",
      "\n",
      "[2270 rows x 8 columns]\n"
     ]
    }
   ],
   "source": [
    "df = pd.read_csv(r'C:\\Users\\Syeda Nimrah\\Downloads\\NimrahFreelancing\\OMAE_2022\\OMAE_2022\\cleaned_data3_training.csv')\n",
    "print(df)"
   ]
  },
  {
   "cell_type": "code",
   "execution_count": 7,
   "id": "765c9c96",
   "metadata": {},
   "outputs": [],
   "source": [
    "p = df['WOB']\n",
    "q = df['ROP']\n",
    "r = df['TRQ']"
   ]
  },
  {
   "cell_type": "code",
   "execution_count": 8,
   "id": "4ee51806",
   "metadata": {},
   "outputs": [
    {
     "name": "stdout",
     "output_type": "stream",
     "text": [
      "0       1.065942\n",
      "1       1.973127\n",
      "2       1.748599\n",
      "3       1.065488\n",
      "4       6.006017\n",
      "          ...   \n",
      "2265    2.499294\n",
      "2266    3.558432\n",
      "2267    5.574650\n",
      "2268    5.583722\n",
      "2269    4.440669\n",
      "Name: WOB, Length: 2270, dtype: float64 0       15.313152\n",
      "1       19.552920\n",
      "2        7.768438\n",
      "3       29.821632\n",
      "4       11.083747\n",
      "          ...    \n",
      "2265    23.440644\n",
      "2266    23.604017\n",
      "2267    26.977848\n",
      "2268    16.050768\n",
      "2269    30.169104\n",
      "Name: ROP, Length: 2270, dtype: float64 0       5.247015\n",
      "1       6.467252\n",
      "2       3.294638\n",
      "3       4.026779\n",
      "4       5.369039\n",
      "          ...   \n",
      "2265    4.026779\n",
      "2266    5.491063\n",
      "2267    7.687488\n",
      "2268    5.613086\n",
      "2269    9.883913\n",
      "Name: TRQ, Length: 2270, dtype: float64\n"
     ]
    }
   ],
   "source": [
    "print(p,q,r)"
   ]
  },
  {
   "cell_type": "code",
   "execution_count": null,
   "id": "09078e78",
   "metadata": {},
   "outputs": [],
   "source": []
  },
  {
   "cell_type": "code",
   "execution_count": 9,
   "id": "9841258c",
   "metadata": {},
   "outputs": [
    {
     "name": "stdout",
     "output_type": "stream",
     "text": [
      "P=8686.586 Q=53878.946 R=13574.273\n"
     ]
    },
    {
     "data": {
      "image/png": "[encoded data removed]",
      "text/plain": [
       "<Figure size 432x288 with 1 Axes>"
      ]
     },
     "metadata": {
      "needs_background": "light"
     },
     "output_type": "display_data"
    }
   ],
   "source": [
    "print('P=%.3f Q=%.3f R=%.3f'  % (sum(p), sum(q), sum(r)))\n",
    "\n",
    "\n",
    "pyplot.bar(df['RPM'], p)\n",
    "\n",
    "pyplot.bar(df['RPM'], q)\n",
    "\n",
    "pyplot.bar(df['RPM'],r)\n",
    "\n",
    "pyplot.show()"
   ]
  },
  {
   "cell_type": "code",
   "execution_count": 10,
   "id": "b24c3973",
   "metadata": {},
   "outputs": [],
   "source": [
    "def kl_divergence(p, q):\n",
    "    return sum(p[i] * math.log(p[i]/q[i],2) for i in range(len(p)))"
   ]
  },
  {
   "cell_type": "code",
   "execution_count": 11,
   "id": "197a494b",
   "metadata": {},
   "outputs": [
    {
     "name": "stdout",
     "output_type": "stream",
     "text": [
      "KL(P || Q): -13985.017 bits\n",
      "KL(Q || P): 176408.912 bits\n"
     ]
    }
   ],
   "source": [
    "kl_pq = kl_divergence(p, q)\n",
    "print('KL(P || Q): %.3f bits' % kl_pq)\n",
    "kl_qp = kl_divergence(q, p)\n",
    "print('KL(Q || P): %.3f bits' % kl_qp)"
   ]
  },
  {
   "cell_type": "code",
   "execution_count": 25,
   "id": "1842d961",
   "metadata": {},
   "outputs": [
    {
     "name": "stdout",
     "output_type": "stream",
     "text": [
      "KL(Q || R): 121301.328 bits\n",
      "KL(R || Q): -22112.798 bits\n"
     ]
    }
   ],
   "source": [
    "kl_pq = kl_divergence(q, r)\n",
    "print('KL(Q || R): %.3f bits' % kl_pq)\n",
    "kl_qp = kl_divergence(r, q)\n",
    "print('KL(R || Q): %.3f bits' % kl_qp)"
   ]
  },
  {
   "cell_type": "code",
   "execution_count": 26,
   "id": "182d9bc5",
   "metadata": {},
   "outputs": [
    {
     "name": "stdout",
     "output_type": "stream",
     "text": [
      "KL(P || R): -3719.744 bits\n",
      "KL(R || P): 11875.278 bits\n"
     ]
    }
   ],
   "source": [
    "kl_pq = kl_divergence(p, r)\n",
    "print('KL(P || R): %.3f bits' % kl_pq)\n",
    "kl_qp = kl_divergence(r, p)\n",
    "print('KL(R || P): %.3f bits' % kl_qp)"
   ]
  },
  {
   "cell_type": "code",
   "execution_count": 28,
   "id": "cbade516",
   "metadata": {},
   "outputs": [
    {
     "name": "stdout",
     "output_type": "stream",
     "text": [
      "KL(P || Q): -9693.675 nats\n",
      "KL(Q || P): 122277.340 nats\n"
     ]
    }
   ],
   "source": [
    "kl_pq = rel_entr(p, q)\n",
    "print('KL(P || Q): %.3f nats' % sum(kl_pq))\n",
    "kl_qp = rel_entr(q, p)\n",
    "print('KL(Q || P): %.3f nats' % sum(kl_qp))"
   ]
  },
  {
   "cell_type": "code",
   "execution_count": 29,
   "id": "407c89ff",
   "metadata": {},
   "outputs": [
    {
     "name": "stdout",
     "output_type": "stream",
     "text": [
      "KL(P || R): -2578.330 nats\n",
      "KL(R || P): 8231.315 nats\n"
     ]
    }
   ],
   "source": [
    "kl_pq = rel_entr(p, r)\n",
    "print('KL(P || R): %.3f nats' % sum(kl_pq))\n",
    "kl_qp = rel_entr(r, p)\n",
    "print('KL(R || P): %.3f nats' % sum(kl_qp))"
   ]
  },
  {
   "cell_type": "code",
   "execution_count": 30,
   "id": "d406c8e4",
   "metadata": {},
   "outputs": [
    {
     "name": "stdout",
     "output_type": "stream",
     "text": [
      "KL(Q || R): 84079.674 nats\n",
      "KL(R || Q): -15327.424 nats\n"
     ]
    }
   ],
   "source": [
    "kl_pq = rel_entr(q, r)\n",
    "print('KL(Q || R): %.3f nats' % sum(kl_pq))\n",
    "kl_qp = rel_entr(r, q)\n",
    "print('KL(R || Q): %.3f nats' % sum(kl_qp))"
   ]
  },
  {
   "cell_type": "code",
   "execution_count": 12,
   "id": "1caae40e",
   "metadata": {},
   "outputs": [],
   "source": [
    "def sigmoid(z):\n",
    "    return 1.0 / (1.0 + np.exp(-z))"
   ]
  },
  {
   "cell_type": "code",
   "execution_count": 13,
   "id": "c58d6ac4",
   "metadata": {},
   "outputs": [],
   "source": [
    "def cross_entropy_cost(yHat, y):\n",
    "    if y == 1:\n",
    "        return -np.log(yHat)\n",
    "    else:\n",
    "        return -np.log(1 - yHat)"
   ]
  },
  {
   "cell_type": "code",
   "execution_count": 15,
   "id": "0960e086",
   "metadata": {},
   "outputs": [],
   "source": [
    "z = df['WOB']\n",
    "h_z = sigmoid(z)\n",
    "\n",
    "cost_1 = cross_entropy_cost(h_z, 1)\n",
    "cost_0 = cross_entropy_cost(h_z, 0)"
   ]
  },
  {
   "cell_type": "code",
   "execution_count": 16,
   "id": "2bc0a6de",
   "metadata": {},
   "outputs": [
    {
     "name": "stdout",
     "output_type": "stream",
     "text": [
      "0       0.295950\n",
      "1       0.130170\n",
      "2       0.160432\n",
      "3       0.296066\n",
      "4       0.002461\n",
      "          ...   \n",
      "2265    0.078943\n",
      "2266    0.028085\n",
      "2267    0.003786\n",
      "2268    0.003752\n",
      "2269    0.011719\n",
      "Name: WOB, Length: 2270, dtype: float64\n",
      "0       1.361892\n",
      "1       2.103296\n",
      "2       1.909030\n",
      "3       1.361555\n",
      "4       6.008477\n",
      "          ...   \n",
      "2265    2.578237\n",
      "2266    3.586517\n",
      "2267    5.578436\n",
      "2268    5.587474\n",
      "2269    4.452388\n",
      "Name: WOB, Length: 2270, dtype: float64\n"
     ]
    }
   ],
   "source": [
    "print(cost_1)\n",
    "print(cost_0)"
   ]
  },
  {
   "cell_type": "code",
   "execution_count": 17,
   "id": "c2bd771f",
   "metadata": {},
   "outputs": [
    {
     "data": {
      "image/png": "[encoded data removed]",
      "text/plain": [
       "<Figure size 576x432 with 1 Axes>"
      ]
     },
     "metadata": {
      "needs_background": "light"
     },
     "output_type": "display_data"
    }
   ],
   "source": [
    "fig, ax = plt.subplots(figsize=(8,6))\n",
    "plt.plot(h_z, cost_1, label='J(w) if y=1')\n",
    "plt.plot(h_z, cost_0, label='J(w) if y=0')\n",
    "plt.xlabel('$\\phi$(z)')\n",
    "plt.ylabel('J(w)')\n",
    "plt.legend(loc='best')\n",
    "plt.tight_layout()\n",
    "plt.show()"
   ]
  },
  {
   "cell_type": "code",
   "execution_count": 18,
   "id": "775aa10b",
   "metadata": {},
   "outputs": [],
   "source": [
    "def Itakuro_Saito_distance():\n",
    "    kl_pq = kl_divergence(p, q)\n",
    "    kl_qp = kl_divergence(q, p)\n",
    "    D = kl_pq + kl_qp\n",
    "    print(D)"
   ]
  },
  {
   "cell_type": "code",
   "execution_count": 19,
   "id": "a24ec26a",
   "metadata": {},
   "outputs": [
    {
     "name": "stdout",
     "output_type": "stream",
     "text": [
      "162423.89463296536\n"
     ]
    }
   ],
   "source": [
    "Itakuro_Saito_distance()"
   ]
  },
  {
   "cell_type": "code",
   "execution_count": null,
   "id": "8f3c008b",
   "metadata": {},
   "outputs": [],
   "source": []
  }
 ],
 "metadata": {
  "kernelspec": {
   "display_name": "Python 3 (ipykernel)",
   "language": "python",
   "name": "python3"
  },
  "language_info": {
   "codemirror_mode": {
    "name": "ipython",
    "version": 3
   },
   "file_extension": ".py",
   "mimetype": "text/x-python",
   "name": "python",
   "nbconvert_exporter": "python",
   "pygments_lexer": "ipython3",
   "version": "3.9.7"
  }
 },
 "nbformat": 4,
 "nbformat_minor": 5
}

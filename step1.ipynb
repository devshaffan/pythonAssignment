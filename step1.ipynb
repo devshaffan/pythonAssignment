{
 "cells": [
  {
   "cell_type": "code",
   "execution_count": 1,
   "id": "75d67eb9",
   "metadata": {},
   "outputs": [],
   "source": [
    "events = ['red', 'green', 'blue']\n",
    "p = [0.10, 0.40, 0.50]\n",
    "q = [0.80, 0.15, 0.05]"
   ]
  },
  {
   "cell_type": "code",
   "execution_count": 5,
   "id": "482de455",
   "metadata": {},
   "outputs": [],
   "source": []
  },
  {
   "cell_type": "code",
   "execution_count": 2,
   "id": "4c41623f",
   "metadata": {},
   "outputs": [
    {
     "name": "stdout",
     "output_type": "stream",
     "text": [
      "P=1.000 Q=1.000\n"
     ]
    },
    {
     "data": {
      "image/png": "[encoded data removed]",
      "text/plain": [
       "<Figure size 432x288 with 2 Axes>"
      ]
     },
     "metadata": {
      "needs_background": "light"
     },
     "output_type": "display_data"
    }
   ],
   "source": [
    "from matplotlib import pyplot\n",
    "# define distributions\n",
    "events = ['red', 'green', 'blue']\n",
    "p = [0.10, 0.40, 0.50]\n",
    "q = [0.80, 0.15, 0.05]\n",
    "print('P=%.3f Q=%.3f' % (sum(p), sum(q)))\n",
    "# plot first distribution\n",
    "pyplot.subplot(2,1,1)\n",
    "pyplot.bar(events, p)\n",
    "# plot second distribution\n",
    "pyplot.subplot(2,1,2)\n",
    "pyplot.bar(events, q)\n",
    "# show the plot\n",
    "pyplot.show()"
   ]
  },
  {
   "cell_type": "code",
   "execution_count": 11,
   "id": "c7e057b8",
   "metadata": {},
   "outputs": [],
   "source": [
    "import math\n",
    "def kl_divergence(p, q):\n",
    "    return sum(p[i] * math.log(p[i]/q[i],2) for i in range(len(p)))"
   ]
  },
  {
   "cell_type": "code",
   "execution_count": 12,
   "id": "23710a64",
   "metadata": {},
   "outputs": [
    {
     "name": "stdout",
     "output_type": "stream",
     "text": [
      "KL(P || Q): 1.927 bits\n",
      "KL(Q || P): 2.022 bits\n"
     ]
    }
   ],
   "source": [
    "kl_pq = kl_divergence(p, q)\n",
    "print('KL(P || Q): %.3f bits' % kl_pq)\n",
    "kl_qp = kl_divergence(q, p)\n",
    "print('KL(Q || P): %.3f bits' % kl_qp)"
   ]
  },
  {
   "cell_type": "code",
   "execution_count": 13,
   "id": "c0af4c1f",
   "metadata": {},
   "outputs": [
    {
     "name": "stdout",
     "output_type": "stream",
     "text": [
      "KL(P || Q): 1.336 nats\n",
      "KL(Q || P): 1.401 nats\n"
     ]
    }
   ],
   "source": [
    "from scipy.special import rel_entr\n",
    "# define distributions\n",
    "p = [0.10, 0.40, 0.50]\n",
    "q = [0.80, 0.15, 0.05]\n",
    "# calculate (P || Q)\n",
    "kl_pq = rel_entr(p, q)\n",
    "print('KL(P || Q): %.3f nats' % sum(kl_pq))\n",
    "# calculate (Q || P)\n",
    "kl_qp = rel_entr(q, p)\n",
    "print('KL(Q || P): %.3f nats' % sum(kl_qp))"
   ]
  },
  {
   "cell_type": "code",
   "execution_count": null,
   "id": "6f680816",
   "metadata": {},
   "outputs": [],
   "source": []
  }
 ],
 "metadata": {
  "kernelspec": {
   "display_name": "Python 3 (ipykernel)",
   "language": "python",
   "name": "python3"
  },
  "language_info": {
   "codemirror_mode": {
    "name": "ipython",
    "version": 3
   },
   "file_extension": ".py",
   "mimetype": "text/x-python",
   "name": "python",
   "nbconvert_exporter": "python",
   "pygments_lexer": "ipython3",
   "version": "3.9.7"
  }
 },
 "nbformat": 4,
 "nbformat_minor": 5
}
